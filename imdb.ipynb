{
 "cells": [
  {
   "cell_type": "markdown",
   "id": "6a656305-088e-4644-9dba-7ba783e1328a",
   "metadata": {},
   "source": [
    "# Classifying Movie Reviews (IMDB)\n",
    "#### El conjunto de datos IMDB es ampliamente utilizado en aprendizaje profundo para la clasificación de sentimientos en críticas de películas. Contiene reseñas de usuarios etiquetadas como positivas o negativas, lo que permite entrenar un modelo de clasificación binaria. Este dataset contiene:\n",
    "\n",
    "#### - 25,000 críticas de películas para entrenamiento.\n",
    "#### - 25,000 críticas de películas para prueba.\n",
    "#### - Cada reseña se representa como una secuencia de enteros, donde cada número corresponde a una palabra en el vocabulario."
   ]
  },
  {
   "cell_type": "markdown",
   "id": "b6f364cb-1591-4801-9cb7-1977762a829a",
   "metadata": {},
   "source": [
    "## Importar Librerías"
   ]
  },
  {
   "cell_type": "code",
   "execution_count": 9,
   "id": "30027e21-9cd6-4524-8741-e21b4537bca8",
   "metadata": {},
   "outputs": [],
   "source": [
    "import tensorflow as tf\n",
    "from tensorflow import keras\n",
    "from tensorflow.keras import layers\n",
    "import numpy as np\n",
    "import matplotlib.pyplot as plt\n",
    "import seaborn as sns\n",
    "from sklearn.metrics import confusion_matrix, classification_report"
   ]
  },
  {
   "cell_type": "markdown",
   "id": "bea46aae-9bf1-4f72-84e8-aa5fd1f9d340",
   "metadata": {},
   "source": [
    "## Definir el Número de Palabras a Considerar"
   ]
  },
  {
   "cell_type": "code",
   "execution_count": 10,
   "id": "76e45541-f55f-426e-84a3-0a83e302d4b8",
   "metadata": {},
   "outputs": [],
   "source": [
    "# Definir la cantidad de palabras a considerar en el dataset\n",
    "num_words = 10000  # Se pueden usar más o menos palabras según el caso"
   ]
  },
  {
   "cell_type": "markdown",
   "id": "b7f71bfe-13a0-45f9-a6b8-60e83c576f9b",
   "metadata": {},
   "source": [
    "## Cargar el Dataset IMDB"
   ]
  },
  {
   "cell_type": "code",
   "execution_count": 11,
   "id": "5172c129-31bf-4403-8d6a-71634fe1344c",
   "metadata": {},
   "outputs": [
    {
     "name": "stdout",
     "output_type": "stream",
     "text": [
      "Cantidad de reseñas en el conjunto de entrenamiento: 25000\n",
      "Cantidad de reseñas en el conjunto de prueba: 25000\n",
      "Longitud de la primera reseña: 218\n",
      "Longitud de la segunda reseña: 189\n"
     ]
    }
   ],
   "source": [
    "from tensorflow.keras.datasets import imdb\n",
    "\n",
    "# Cargar el conjunto de datos con el número de palabras definido\n",
    "(train_data, train_labels), (test_data, test_labels) = imdb.load_data(num_words=num_words)\n",
    "\n",
    "# Mostrar algunas estadísticas del dataset\n",
    "print(f\"Cantidad de reseñas en el conjunto de entrenamiento: {len(train_data)}\")\n",
    "print(f\"Cantidad de reseñas en el conjunto de prueba: {len(test_data)}\")\n",
    "\n",
    "# Ver el tamaño de algunas reseñas\n",
    "print(f\"Longitud de la primera reseña: {len(train_data[0])}\")\n",
    "print(f\"Longitud de la segunda reseña: {len(train_data[1])}\")"
   ]
  },
  {
   "cell_type": "markdown",
   "id": "5dd741f4-6b10-4ed5-8cf4-9e0ed1b07eea",
   "metadata": {},
   "source": [
    "## Obtener el Diccionario de Palabras"
   ]
  },
  {
   "cell_type": "code",
   "execution_count": 12,
   "id": "f7f5c17c-7d6b-4dcd-ad26-352b4867764b",
   "metadata": {},
   "outputs": [],
   "source": [
    "# Obtener el diccionario de palabras de IMDB\n",
    "word_index = imdb.get_word_index()\n",
    "\n",
    "# Ajustar índices en el diccionario\n",
    "word_index = {k: (v + 3) for k, v in word_index.items()}\n",
    "word_index[\"<PAD>\"] = 0\n",
    "word_index[\"<START>\"] = 1\n",
    "word_index[\"<UNK>\"] = 2  # Palabras desconocidas\n",
    "word_index[\"<UNUSED>\"] = 3\n",
    "\n",
    "# Invertir el diccionario para decodificar críticas\n",
    "reverse_word_index = {v: k for k, v in word_index.items()}"
   ]
  },
  {
   "cell_type": "markdown",
   "id": "720b3d00-ef57-4374-8baf-084feb9f51fb",
   "metadata": {},
   "source": [
    "## Preprocesamiento de Datos"
   ]
  },
  {
   "cell_type": "code",
   "execution_count": 13,
   "id": "aba7ea74-da67-4d5c-91d7-606e7e9c143f",
   "metadata": {},
   "outputs": [],
   "source": [
    "# Función para vectorizar las secuencias\n",
    "def vectorize_sequences(sequences, dimension=num_words):\n",
    "    results = np.zeros((len(sequences), dimension))  # Crear una matriz de ceros\n",
    "    for i, sequence in enumerate(sequences):\n",
    "        results[i, sequence] = 1.0  # Poner 1 en los índices de palabras presentes\n",
    "    return results\n",
    "\n",
    "# Convertir datos en representaciones binarias\n",
    "x_train = vectorize_sequences(train_data, dimension=num_words)\n",
    "x_test = vectorize_sequences(test_data, dimension=num_words)\n",
    "\n",
    "# Convertir etiquetas en arreglos float32\n",
    "y_train = np.asarray(train_labels).astype(\"float32\")\n",
    "y_test = np.asarray(test_labels).astype(\"float32\")\n"
   ]
  },
  {
   "cell_type": "markdown",
   "id": "2fecce7f-49f0-4cc9-a628-f96ef4d02a82",
   "metadata": {},
   "source": [
    "## Definir y entrenar el modelo"
   ]
  },
  {
   "cell_type": "code",
   "execution_count": 14,
   "id": "5661fdc7-672b-4837-9f5d-efa97da98d3f",
   "metadata": {},
   "outputs": [
    {
     "name": "stderr",
     "output_type": "stream",
     "text": [
      "/home/gustavo/.virtualenvs/tf/lib/python3.12/site-packages/keras/src/layers/core/dense.py:87: UserWarning: Do not pass an `input_shape`/`input_dim` argument to a layer. When using Sequential models, prefer using an `Input(shape)` object as the first layer in the model instead.\n",
      "  super().__init__(activity_regularizer=activity_regularizer, **kwargs)\n"
     ]
    },
    {
     "name": "stdout",
     "output_type": "stream",
     "text": [
      "Epoch 1/10\n",
      "\u001b[1m40/40\u001b[0m \u001b[32m━━━━━━━━━━━━━━━━━━━━\u001b[0m\u001b[37m\u001b[0m \u001b[1m1s\u001b[0m 16ms/step - accuracy: 0.7255 - loss: 0.6144 - val_accuracy: 0.8448 - val_loss: 0.4359\n",
      "Epoch 2/10\n",
      "\u001b[1m40/40\u001b[0m \u001b[32m━━━━━━━━━━━━━━━━━━━━\u001b[0m\u001b[37m\u001b[0m \u001b[1m0s\u001b[0m 5ms/step - accuracy: 0.8854 - loss: 0.3755 - val_accuracy: 0.8798 - val_loss: 0.3273\n",
      "Epoch 3/10\n",
      "\u001b[1m40/40\u001b[0m \u001b[32m━━━━━━━━━━━━━━━━━━━━\u001b[0m\u001b[37m\u001b[0m \u001b[1m0s\u001b[0m 5ms/step - accuracy: 0.9064 - loss: 0.2751 - val_accuracy: 0.8864 - val_loss: 0.2893\n",
      "Epoch 4/10\n",
      "\u001b[1m40/40\u001b[0m \u001b[32m━━━━━━━━━━━━━━━━━━━━\u001b[0m\u001b[37m\u001b[0m \u001b[1m0s\u001b[0m 5ms/step - accuracy: 0.9225 - loss: 0.2175 - val_accuracy: 0.8890 - val_loss: 0.2731\n",
      "Epoch 5/10\n",
      "\u001b[1m40/40\u001b[0m \u001b[32m━━━━━━━━━━━━━━━━━━━━\u001b[0m\u001b[37m\u001b[0m \u001b[1m0s\u001b[0m 5ms/step - accuracy: 0.9353 - loss: 0.1884 - val_accuracy: 0.8898 - val_loss: 0.2730\n",
      "Epoch 6/10\n",
      "\u001b[1m40/40\u001b[0m \u001b[32m━━━━━━━━━━━━━━━━━━━━\u001b[0m\u001b[37m\u001b[0m \u001b[1m0s\u001b[0m 5ms/step - accuracy: 0.9454 - loss: 0.1639 - val_accuracy: 0.8802 - val_loss: 0.3123\n",
      "Epoch 7/10\n",
      "\u001b[1m40/40\u001b[0m \u001b[32m━━━━━━━━━━━━━━━━━━━━\u001b[0m\u001b[37m\u001b[0m \u001b[1m0s\u001b[0m 5ms/step - accuracy: 0.9519 - loss: 0.1445 - val_accuracy: 0.8870 - val_loss: 0.2954\n",
      "Epoch 8/10\n",
      "\u001b[1m40/40\u001b[0m \u001b[32m━━━━━━━━━━━━━━━━━━━━\u001b[0m\u001b[37m\u001b[0m \u001b[1m0s\u001b[0m 5ms/step - accuracy: 0.9564 - loss: 0.1296 - val_accuracy: 0.8842 - val_loss: 0.3107\n",
      "Epoch 9/10\n",
      "\u001b[1m40/40\u001b[0m \u001b[32m━━━━━━━━━━━━━━━━━━━━\u001b[0m\u001b[37m\u001b[0m \u001b[1m0s\u001b[0m 5ms/step - accuracy: 0.9637 - loss: 0.1126 - val_accuracy: 0.8812 - val_loss: 0.3287\n",
      "Epoch 10/10\n",
      "\u001b[1m40/40\u001b[0m \u001b[32m━━━━━━━━━━━━━━━━━━━━\u001b[0m\u001b[37m\u001b[0m \u001b[1m0s\u001b[0m 5ms/step - accuracy: 0.9659 - loss: 0.1085 - val_accuracy: 0.8840 - val_loss: 0.3293\n"
     ]
    }
   ],
   "source": [
    "model = keras.Sequential([\n",
    "    layers.Dense(16, activation=\"relu\", input_shape=(num_words,)),  # Capa oculta 1\n",
    "    layers.Dense(16, activation=\"relu\"),  # Capa oculta 2\n",
    "    layers.Dense(1, activation=\"sigmoid\")  # Capa de salida para clasificación binaria\n",
    "])\n",
    "\n",
    "model.compile(optimizer=\"rmsprop\",\n",
    "              loss=\"binary_crossentropy\",\n",
    "              metrics=[\"accuracy\"])\n",
    "\n",
    "history = model.fit(x_train, y_train, epochs=10, batch_size=512, validation_split=0.2)"
   ]
  },
  {
   "cell_type": "markdown",
   "id": "839e4887-2a23-47c2-b6f0-0335196fef15",
   "metadata": {},
   "source": [
    "## Evaluar el modelo"
   ]
  },
  {
   "cell_type": "code",
   "execution_count": 15,
   "id": "7afeaea4-513b-404d-83aa-1592e5d6faca",
   "metadata": {},
   "outputs": [
    {
     "name": "stdout",
     "output_type": "stream",
     "text": [
      "\u001b[1m782/782\u001b[0m \u001b[32m━━━━━━━━━━━━━━━━━━━━\u001b[0m\u001b[37m\u001b[0m \u001b[1m1s\u001b[0m 914us/step - accuracy: 0.8717 - loss: 0.3528\n",
      "\n",
      "Precisión en el conjunto de prueba: 0.8730\n",
      "\u001b[1m782/782\u001b[0m \u001b[32m━━━━━━━━━━━━━━━━━━━━\u001b[0m\u001b[37m\u001b[0m \u001b[1m1s\u001b[0m 677us/step\n"
     ]
    },
    {
     "data": {
      "image/png": "[encoded data removed]",
      "text/plain": [
       "<Figure size 600x500 with 2 Axes>"
      ]
     },
     "metadata": {},
     "output_type": "display_data"
    }
   ],
   "source": [
    "# Evaluar en el conjunto de prueba\n",
    "results = model.evaluate(x_test, y_test)\n",
    "print(f\"\\nPrecisión en el conjunto de prueba: {results[1]:.4f}\")\n",
    "\n",
    "# Hacer predicciones\n",
    "y_pred_prob = model.predict(x_test)\n",
    "y_pred = (y_pred_prob > 0.5).astype(\"int32\")  # Convertir a etiquetas binarias\n",
    "\n",
    "# Crear matriz de confusión\n",
    "conf_matrix = confusion_matrix(y_test, y_pred)\n",
    "\n",
    "# Visualizar matriz de confusión\n",
    "plt.figure(figsize=(6,5))\n",
    "sns.heatmap(conf_matrix, annot=True, fmt=\"d\", cmap=\"Blues\", xticklabels=[\"Negativa\", \"Positiva\"], yticklabels=[\"Negativa\", \"Positiva\"])\n",
    "plt.xlabel(\"Predicción\")\n",
    "plt.ylabel(\"Etiqueta real\")\n",
    "plt.title(\"Matriz de Confusión - Clasificación IMDB\")\n",
    "plt.show()\n"
   ]
  }
 ],
 "metadata": {
  "kernelspec": {
   "display_name": "tf",
   "language": "python",
   "name": "python3"
  },
  "language_info": {
   "codemirror_mode": {
    "name": "ipython",
    "version": 3
   },
   "file_extension": ".py",
   "mimetype": "text/x-python",
   "name": "python",
   "nbconvert_exporter": "python",
   "pygments_lexer": "ipython3",
   "version": "3.12.3"
  }
 },
 "nbformat": 4,
 "nbformat_minor": 5
}
